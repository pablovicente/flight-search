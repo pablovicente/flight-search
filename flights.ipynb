{
 "cells": [
  {
   "cell_type": "code",
   "execution_count": null,
   "metadata": {},
   "outputs": [],
   "source": [
    "import os\n",
    "import requests\n",
    "\n",
    "from dotenv import load_dotenv, find_dotenv\n",
    "load_dotenv(find_dotenv())"
   ]
  },
  {
   "cell_type": "markdown",
   "metadata": {},
   "source": [
    "### Shared variables"
   ]
  },
  {
   "cell_type": "code",
   "execution_count": null,
   "metadata": {},
   "outputs": [],
   "source": [
    "# The API Key to identify the customer\n",
    "apiKey = os.environ['API_KEY']\n",
    "#Host\n",
    "host = \"skyscanner-skyscanner-flight-search-v1.p.mashape.com\"\n",
    "# The market country your user is in\n",
    "country = \"US\"\n",
    "# The currency you want the prices in\n",
    "currency = \"USD\"\n",
    "# The locale you want the results in (ISO locale)\n",
    "locale = \"en-US\""
   ]
  },
  {
   "cell_type": "markdown",
   "metadata": {},
   "source": [
    "## Retrieve the cheapest quotes from cache prices"
   ]
  },
  {
   "cell_type": "code",
   "execution_count": null,
   "metadata": {},
   "outputs": [],
   "source": [
    "# URL\n",
    "url = \"https://skyscanner-skyscanner-flight-search-v1.p.mashape.com/apiservices/browsequotes/v1.0/\"\n",
    "\n",
    "# The origin place (see places)\n",
    "originPlace = \"SFO-sky\"\n",
    "# The destination place (see places)\n",
    "destinationPlace = \"JFK-sky\"\n",
    "# The outbound date. Format “yyyy-mm-dd”, “yyyy-mm” or “anytime”.\n",
    "outboundPartialDate = \"2018-07-01\"\n",
    "# The return date. Format “yyyy-mm-dd”, “yyyy-mm” or “anytime”. Use empty string for oneway trip.\n",
    "inboundPartialDate = \"2018-07-04\""
   ]
  },
  {
   "cell_type": "code",
   "execution_count": null,
   "metadata": {},
   "outputs": [],
   "source": [
    "response = requests.get(url +\n",
    "                        country + \"/\" +\n",
    "                        currency + \"/\" +\n",
    "                        locale + \"/\" +\n",
    "                        originPlace + \"/\" +\n",
    "                        destinationPlace + \"/\" +\n",
    "                        outboundPartialDate + \"/\" +\n",
    "                        inboundPartialDate,\n",
    "  headers={\n",
    "    \"X-Mashape-Key\": apiKey,\n",
    "    \"X-Mashape-Host\": host\n",
    "  }\n",
    ")"
   ]
  },
  {
   "cell_type": "code",
   "execution_count": null,
   "metadata": {},
   "outputs": [],
   "source": [
    "response.text"
   ]
  },
  {
   "cell_type": "markdown",
   "metadata": {},
   "source": [
    "### List places"
   ]
  },
  {
   "cell_type": "code",
   "execution_count": null,
   "metadata": {},
   "outputs": [],
   "source": [
    "# URL\n",
    "url = \"https://skyscanner-skyscanner-flight-search-v1.p.mashape.com/apiservices/autosuggest/v1.0/\"\n",
    "# Place to look for\n",
    "query = 'Miami'"
   ]
  },
  {
   "cell_type": "code",
   "execution_count": null,
   "metadata": {},
   "outputs": [],
   "source": [
    "response = requests.get(url +\n",
    "                       country + \"/\" +\n",
    "                       currency + \"/\" +\n",
    "                       locale + \"/\" +\n",
    "                       '?query=' + query ,\n",
    "  headers={\n",
    "    \"X-Mashape-Key\": apiKey,\n",
    "    \"X-Mashape-Host\": host\n",
    "  }\n",
    ")"
   ]
  },
  {
   "cell_type": "code",
   "execution_count": null,
   "metadata": {},
   "outputs": [],
   "source": [
    "response.text"
   ]
  }
 ],
 "metadata": {
  "kernelspec": {
   "display_name": "Python 3",
   "language": "python",
   "name": "python3"
  },
  "language_info": {
   "codemirror_mode": {
    "name": "ipython",
    "version": 3
   },
   "file_extension": ".py",
   "mimetype": "text/x-python",
   "name": "python",
   "nbconvert_exporter": "python",
   "pygments_lexer": "ipython3",
   "version": "3.6.2"
  }
 },
 "nbformat": 4,
 "nbformat_minor": 2
}
